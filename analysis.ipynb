{
 "cells": [
  {
   "cell_type": "code",
   "execution_count": 1,
   "metadata": {
    "collapsed": true,
    "pycharm": {
     "is_executing": false
    }
   },
   "outputs": [],
   "source": [
    "import sys\n",
    "base_path = \"/home/luricheng/PycharmProjects/fundSpider\"\n",
    "sys.path.append(base_path)"
   ]
  },
  {
   "cell_type": "code",
   "execution_count": 2,
   "outputs": [],
   "source": [
    "from tool import Tool\n",
    "from strategy import Strategy\n",
    "import numpy as np\n",
    "# from tqdm import tqdm"
   ],
   "metadata": {
    "collapsed": false,
    "pycharm": {
     "name": "#%%\n",
     "is_executing": false
    }
   }
  },
  {
   "cell_type": "code",
   "execution_count": 3,
   "outputs": [
    {
     "name": "stdout",
     "text": [
      "total fund: 4301\n"
     ],
     "output_type": "stream"
    }
   ],
   "source": [
    "fund_dict = Tool.load_fund_info_by_type(base_path=base_path)\n",
    "print(\"total fund: %s\" % len(fund_dict))"
   ],
   "metadata": {
    "collapsed": false,
    "pycharm": {
     "name": "#%%\n",
     "is_executing": false
    }
   }
  },
  {
   "cell_type": "code",
   "execution_count": 15,
   "outputs": [
    {
     "name": "stdout",
     "text": [
      "strategy_res_dict len: 2719\n"
     ],
     "output_type": "stream"
    }
   ],
   "source": [
    "invest_time = 120\n",
    "strategy_res_dict = {}\n",
    "expect_profit_rate = 0.03\n",
    "for k, v in fund_dict.items():\n",
    "    value_list = Tool.get_value_list(v)\n",
    "    if len(value_list) - 365 > invest_time:\n",
    "        end_idx = len(value_list) - 365\n",
    "        start_idx = end_idx - invest_time\n",
    "        strategy_res_dict[k] = Strategy.bottom_suction_high_throw(value_list,\n",
    "                                                                  start_idx,\n",
    "                                                                  end_idx,\n",
    "                                                                  take_profit_rate=expect_profit_rate)\n",
    "        # assert strategy_res_dict[k] is not None\n",
    "print(\"strategy_res_dict len: %s\" % len(strategy_res_dict))"
   ],
   "metadata": {
    "collapsed": false,
    "pycharm": {
     "name": "#%%\n",
     "is_executing": false
    }
   }
  },
  {
   "cell_type": "code",
   "execution_count": 16,
   "outputs": [
    {
     "name": "stdout",
     "text": [
      "profit_rate:\n\tmean: 0.026267830594902473, \n\tmax: 8.889860674865464, \n\tmin: -0.14285379837719955\ntotal_cost:\n\tmean: 276.65318131666055, \n\tmax: 1220, \n\tmin: 100\ntime_cost:\n\tmean: 50.111805810959915, \n\tmax: 119, \n\tmin: 2\n"
     ],
     "output_type": "stream"
    }
   ],
   "source": [
    "def fmt_mean_max_min(ls, title):\n",
    "    return \"%s:\\n\\tmean: %s, \\n\\tmax: %s, \\n\\tmin: %s\" % (title, np.mean(ls), np.max(ls), np.min(ls))\n",
    "    \n",
    "profit_rate_list = [v.get(\"profit_rate\") for v in strategy_res_dict.values()]\n",
    "cost_list = [v.get(\"total_cost\") for v in strategy_res_dict.values()]\n",
    "time_list = [v.get(\"cost_time\") for v in strategy_res_dict.values()]\n",
    "print(fmt_mean_max_min(profit_rate_list, \"profit_rate\"))\n",
    "print(fmt_mean_max_min(cost_list, \"total_cost\"))\n",
    "print(fmt_mean_max_min(time_list, \"time_cost\"))"
   ],
   "metadata": {
    "collapsed": false,
    "pycharm": {
     "name": "#%%\n",
     "is_executing": false
    }
   }
  },
  {
   "cell_type": "code",
   "execution_count": null,
   "outputs": [],
   "source": [
    "\n"
   ],
   "metadata": {
    "collapsed": false,
    "pycharm": {
     "name": "#%%\n"
    }
   }
  }
 ],
 "metadata": {
  "language_info": {
   "codemirror_mode": {
    "name": "ipython",
    "version": 2
   },
   "file_extension": ".py",
   "mimetype": "text/x-python",
   "name": "python",
   "nbconvert_exporter": "python",
   "pygments_lexer": "ipython2",
   "version": "2.7.6"
  },
  "kernelspec": {
   "name": "spider",
   "language": "python",
   "display_name": "spider"
  },
  "pycharm": {
   "stem_cell": {
    "cell_type": "raw",
    "source": [],
    "metadata": {
     "collapsed": false
    }
   }
  }
 },
 "nbformat": 4,
 "nbformat_minor": 0
}